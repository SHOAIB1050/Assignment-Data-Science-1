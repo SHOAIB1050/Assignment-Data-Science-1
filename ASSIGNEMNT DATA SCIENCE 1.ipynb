{
 "cells": [
  {
   "cell_type": "code",
   "execution_count": 2,
   "metadata": {},
   "outputs": [
    {
     "name": "stdout",
     "output_type": "stream",
     "text": [
      "Twinkle, twinkle, little start,\n",
      "\t how i wounder what you are i \n",
      "\t\t Up above the world so heigh, \n",
      "\t\t Like a diamond in the sky.\n",
      " Twinkle, twinkle, little start,\n",
      "\t how i wounder what you are\n"
     ]
    }
   ],
   "source": [
    "#Q1\n",
    "print(\"Twinkle, twinkle, little start,\\n\\t how i wounder what you are i \\n\\t\\t Up above the world so heigh, \\n\\t\\t Like a diamond in the sky.\\n Twinkle, twinkle, little start,\\n\\t how i wounder what you are\")"
   ]
  },
  {
   "cell_type": "code",
   "execution_count": 5,
   "metadata": {},
   "outputs": [
    {
     "name": "stdout",
     "output_type": "stream",
     "text": [
      "3.8.5\n"
     ]
    }
   ],
   "source": [
    "#Q2:\n",
    "\n",
    "from platform import python_version\n",
    "print(python_version())"
   ]
  },
  {
   "cell_type": "code",
   "execution_count": 12,
   "metadata": {},
   "outputs": [
    {
     "name": "stdout",
     "output_type": "stream",
     "text": [
      "Current_Time :  2022-01-01 14:56:56.007276\n"
     ]
    }
   ],
   "source": [
    "#Q3:\n",
    "from datetime import datetime\n",
    "# datetime object containing current date and time\n",
    "Current_Time = datetime.now()\n",
    "print(\"Current Time : \", Current_Time)"
   ]
  },
  {
   "cell_type": "code",
   "execution_count": 21,
   "metadata": {},
   "outputs": [
    {
     "name": "stdout",
     "output_type": "stream",
     "text": [
      "Enter the radius of a circle:4\n",
      "4.0\n",
      "AREA OF CIRCLE IS  =  157.83361491635122\n"
     ]
    }
   ],
   "source": [
    "#Q4\n",
    "import math\n",
    "radius = float(input(\"Enter the radius of a circle:\"))\n",
    "print(radius)\n",
    "area = math.pi * 3.14 * pow(radius,2)\n",
    "print(\"AREA OF CIRCLE IS  = \", area)"
   ]
  },
  {
   "cell_type": "code",
   "execution_count": 28,
   "metadata": {},
   "outputs": [
    {
     "name": "stdout",
     "output_type": "stream",
     "text": [
      "ENTER FIRST NAME : shoaib\n",
      "ENTER LAST NAME : farooq\n",
      "qooraf biaohs\n"
     ]
    }
   ],
   "source": [
    "#Q5\n",
    "first_name = input(\"ENTER FIRST NAME : \")\n",
    "Last_name = input(\"ENTER LAST NAME : \")\n",
    "name = first_name + \" \" + Last_name \n",
    "print(name[: :-1] )"
   ]
  },
  {
   "cell_type": "code",
   "execution_count": 30,
   "metadata": {},
   "outputs": [
    {
     "name": "stdout",
     "output_type": "stream",
     "text": [
      "Enter First Number : 4\n",
      "Enter Second Number : 5\n",
      "SUM =  9.0\n"
     ]
    }
   ],
   "source": [
    "#Q6:\n",
    "First_Number = float(input(\"Enter First Number : \"))\n",
    "Second_Number = float(input(\"Enter Second Number : \"))\n",
    "Sum = First_Number + Second_Number\n",
    "print(\"SUM = \", Sum)\n"
   ]
  },
  {
   "cell_type": "code",
   "execution_count": null,
   "metadata": {},
   "outputs": [],
   "source": []
  }
 ],
 "metadata": {
  "kernelspec": {
   "display_name": "Python 3",
   "language": "python",
   "name": "python3"
  },
  "language_info": {
   "codemirror_mode": {
    "name": "ipython",
    "version": 3
   },
   "file_extension": ".py",
   "mimetype": "text/x-python",
   "name": "python",
   "nbconvert_exporter": "python",
   "pygments_lexer": "ipython3",
   "version": "3.8.5"
  }
 },
 "nbformat": 4,
 "nbformat_minor": 4
}
